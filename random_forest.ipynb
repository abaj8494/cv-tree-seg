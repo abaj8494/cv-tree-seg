{
 "cells": [
  {
   "cell_type": "markdown",
   "id": "e032d39d",
   "metadata": {},
   "source": [
    "### Exploring data augmentation and classic image segmentation methods\n",
    "### Ming Ong"
   ]
  },
  {
   "cell_type": "markdown",
   "id": "9fc36a6a",
   "metadata": {},
   "source": [
    "#### Import necessary libraries"
   ]
  },
  {
   "cell_type": "code",
   "execution_count": null,
   "id": "23321847",
   "metadata": {},
   "outputs": [],
   "source": [
    "import cv2\n",
    "import joblib\n",
    "import matplotlib.pyplot as plt\n",
    "import numpy as np\n",
    "from pathlib import Path\n",
    "import random\n",
    "import re\n",
    "from sklearn.ensemble import RandomForestClassifier\n",
    "from sklearn.model_selection import train_test_split"
   ]
  },
  {
   "cell_type": "markdown",
   "id": "967d9a7e",
   "metadata": {},
   "source": [
    "#### Set paths for images, and splits data into train/test set, assumes segmentation folder is in parent directory"
   ]
  },
  {
   "cell_type": "code",
   "execution_count": null,
   "id": "050f60e4",
   "metadata": {},
   "outputs": [],
   "source": [
    "folder_dir = 'USA_segmentation'\n",
    "masks_dir = 'masks'\n",
    "nrg_dir = 'NRG_images'\n",
    "rgb_dir = 'RGB_images'\n",
    "pwd = Path('../')\n",
    "rgb_images_dir = pwd / folder_dir / rgb_dir\n",
    "nrg_images_dir = pwd / folder_dir / nrg_dir\n",
    "mask_images_dir = pwd / folder_dir / masks_dir\n",
    "filenames = [re.search(r'(?:^[^_]*_)(.*)', re.search(r'[^\\/]*$', str(f)).group()).group(1) for f in list(mask_images_dir.iterdir())]\n",
    "train_files, test_files = train_test_split(filenames, test_size=0.2, random_state=322)\n",
    "print(len(train_files))\n",
    "print(len(test_files))"
   ]
  },
  {
   "cell_type": "markdown",
   "id": "7e37d6df",
   "metadata": {},
   "source": [
    "#### Select a random image and plot its RGB/NRG/mask side-by-side"
   ]
  },
  {
   "cell_type": "code",
   "execution_count": null,
   "id": "2196e1f6",
   "metadata": {},
   "outputs": [],
   "source": [
    "# random.seed(42)\n",
    "base_filename = random.sample(filenames, 1)[0]\n",
    "rgb_filename = str(rgb_images_dir/('RGB_' + base_filename))\n",
    "nrg_filename = str(nrg_images_dir/('NRG_' + base_filename))\n",
    "mask_filename = str(mask_images_dir/('mask_' + base_filename))\n",
    "\n",
    "rgb_image = cv2.imread(rgb_filename)\n",
    "rgb_image = cv2.cvtColor(rgb_image, cv2.COLOR_BGR2RGB)\n",
    "\n",
    "nrg_image = cv2.imread(nrg_filename)\n",
    "nrg_image = cv2.cvtColor(nrg_image, cv2.COLOR_BGR2RGB)\n",
    "\n",
    "mask_image = cv2.imread(mask_filename)\n",
    "\n",
    "fig, axes = plt.subplots(nrows=1, ncols=3, figsize=(12, 4))\n",
    "fig.suptitle(base_filename)\n",
    "\n",
    "axes[0].imshow(rgb_image)\n",
    "axes[0].axis('off')\n",
    "axes[0].set_title('RGB')\n",
    "\n",
    "axes[1].imshow(nrg_image)\n",
    "axes[1].axis('off')\n",
    "axes[1].set_title('NRG')\n",
    "\n",
    "axes[2].set_title('mask')\n",
    "axes[2].imshow(mask_image)\n",
    "axes[2].axis('off')\n",
    "\n",
    "# fig.tight_layout()\n",
    "fig.show()"
   ]
  },
  {
   "cell_type": "markdown",
   "id": "f84c20fa",
   "metadata": {},
   "source": [
    "#### Define a function to train a classifier either using the RGB or NRG images or both"
   ]
  },
  {
   "cell_type": "code",
   "execution_count": null,
   "id": "777db460",
   "metadata": {},
   "outputs": [],
   "source": [
    "def train_classifier(train_files: list[str], model, rgb=True, nrg=True, image_size=(256, 256)) -> None:\n",
    "    if (not (rgb or nrg)):\n",
    "        print('RGB or NRG have to be true')\n",
    "        return\n",
    "    X = []\n",
    "    y = []\n",
    "    for base_filename in train_files:\n",
    "        rgb_filename = str(rgb_images_dir/('RGB_' + base_filename))\n",
    "        nrg_filename = str(nrg_images_dir/('NRG_' + base_filename))\n",
    "        mask_filename = str(mask_images_dir/('mask_' + base_filename))\n",
    "\n",
    "        mask = cv2.resize(cv2.imread(mask_filename, flags=cv2.IMREAD_GRAYSCALE), image_size)\n",
    "        mask = mask.reshape(-1)\n",
    "        mask = (mask > 127).astype(np.uint8)\n",
    "\n",
    "        if (not rgb):\n",
    "            image = cv2.resize(cv2.imread(nrg_filename), image_size)\n",
    "            image = image.reshape(-1, 3)\n",
    "        elif (not nrg):\n",
    "            image = cv2.resize(cv2.imread(rgb_filename), image_size)\n",
    "            image = image.reshape(-1, 3)\n",
    "        else:\n",
    "            rgb_image = cv2.resize(cv2.imread(rgb_filename), image_size)\n",
    "            nrg_image = cv2.resize(cv2.imread(nrg_filename), image_size)\n",
    "            image = np.concatenate((rgb_image, nrg_image), axis=2)\n",
    "            image = image.reshape(-1, 6)\n",
    "\n",
    "        X.append(image)\n",
    "        y.append(mask)\n",
    "    \n",
    "    X = np.vstack(X)\n",
    "    y = np.hstack(y)\n",
    "    model.fit(X, y)"
   ]
  },
  {
   "cell_type": "markdown",
   "id": "ff5d1648",
   "metadata": {},
   "source": [
    "#### Define a bunch of different models, train them and save them to a file"
   ]
  },
  {
   "cell_type": "code",
   "execution_count": null,
   "id": "38321ce1",
   "metadata": {},
   "outputs": [],
   "source": [
    "IMAGE_SIZE = (256, 256)\n",
    "\n",
    "# model = joblib.load('random_forest_42_RGB_NRG.joblib')\n",
    "model = RandomForestClassifier(n_jobs=-1)\n",
    "train_classifier(train_files, model, True, True, IMAGE_SIZE)\n",
    "joblib.dump(model, 'random_forest_322_RGB_NRG.joblib')\n",
    "\n",
    "# model = joblib.load('random_forest_42_RGB.joblib')\n",
    "model = RandomForestClassifier(n_jobs=-1)\n",
    "train_classifier(train_files, model, True, False, IMAGE_SIZE)\n",
    "joblib.dump(model, 'random_forest_322_RGB.joblib')\n",
    "\n",
    "# model = joblib.load('random_forest_42_NRG.joblib')\n",
    "model = RandomForestClassifier(n_jobs=-1)\n",
    "train_classifier(train_files, model, False, True, IMAGE_SIZE)\n",
    "joblib.dump(model, 'random_forest_322_NRG.joblib')"
   ]
  },
  {
   "cell_type": "markdown",
   "id": "47ea240f",
   "metadata": {},
   "source": [
    "#### Define function to test a classifier on unseen test data"
   ]
  },
  {
   "cell_type": "code",
   "execution_count": null,
   "id": "a6ed646d",
   "metadata": {},
   "outputs": [],
   "source": [
    "def test_classifier(test_file: str, model, rgb=True, nrg=True, image_size=(256, 256)): \n",
    "    if (not (rgb or nrg)):\n",
    "        print('RGB or NRG have to be true')\n",
    "        return\n",
    "\n",
    "    rgb_filename = str(rgb_images_dir/('RGB_' + test_file))\n",
    "    nrg_filename = str(nrg_images_dir/('NRG_' + test_file))\n",
    "    mask_filename = str(mask_images_dir/('mask_' + test_file))\n",
    "\n",
    "    mask = cv2.resize(cv2.imread(mask_filename, flags=cv2.IMREAD_GRAYSCALE), image_size)\n",
    "    mask = mask.reshape(-1)\n",
    "    mask = (mask > 127).astype(np.uint8)\n",
    "\n",
    "    if (not rgb):\n",
    "        image = cv2.resize(cv2.imread(nrg_filename), image_size)\n",
    "        image = image.reshape(-1, 3)\n",
    "    elif (not nrg):\n",
    "        image = cv2.resize(cv2.imread(rgb_filename), image_size)\n",
    "        image = image.reshape(-1, 3)\n",
    "    else:\n",
    "        rgb_image = cv2.resize(cv2.imread(rgb_filename), image_size)\n",
    "        nrg_image = cv2.resize(cv2.imread(nrg_filename), image_size)\n",
    "        image = np.concatenate((rgb_image, nrg_image), axis=2)\n",
    "        image = image.reshape(-1, 6)\n",
    "    \n",
    "    y_pred = model.predict(image)\n",
    "    return y_pred.reshape(image_size)\n"
   ]
  },
  {
   "cell_type": "code",
   "execution_count": null,
   "id": "5e466566",
   "metadata": {},
   "outputs": [],
   "source": [
    "def calculate_iou(y_true, y_pred):\n",
    "    intersection = np.sum(y_true * y_pred)\n",
    "    union = np.sum(y_true) + np.sum(y_pred) - intersection\n",
    "    if union == 0:\n",
    "        return 1.0\n",
    "    else:\n",
    "        return intersection / union"
   ]
  },
  {
   "cell_type": "markdown",
   "id": "64e94753",
   "metadata": {},
   "source": [
    "#### Test the classifier on a test file and visualise outputs"
   ]
  },
  {
   "cell_type": "code",
   "execution_count": null,
   "id": "a624581e",
   "metadata": {},
   "outputs": [],
   "source": [
    "NUM_TEST_SAMPLES = 5\n",
    "\n",
    "random.seed(69)\n",
    "test_samples = random.sample(test_files, NUM_TEST_SAMPLES)\n",
    "fig, axes = plt.subplots(nrows=NUM_TEST_SAMPLES, ncols=4, figsize=(16, 20))\n",
    "for test_file, i in zip(test_samples, range(5)):\n",
    "    mask_filename = str(mask_images_dir/('mask_' + test_file))\n",
    "    rgb_filename = str(rgb_images_dir/('RGB_' + test_file))\n",
    "    nrg_filename = str(nrg_images_dir/('NRG_' + test_file))\n",
    "    mask = cv2.resize(cv2.imread(mask_filename, flags=cv2.IMREAD_GRAYSCALE), IMAGE_SIZE)\n",
    "    mask = (mask > 127).astype(np.uint8)\n",
    "    pred_mask = test_classifier(test_file, model, False, True, IMAGE_SIZE)\n",
    "    rgb_image = cv2.resize(cv2.imread(rgb_filename), IMAGE_SIZE)\n",
    "    rgb_image = cv2.cvtColor(rgb_image, cv2.COLOR_BGR2RGB)\n",
    "    nrg_image = cv2.resize(cv2.imread(nrg_filename), IMAGE_SIZE)\n",
    "    nrg_image = cv2.cvtColor(nrg_image, cv2.COLOR_BGR2RGB)\n",
    "\n",
    "    iou = calculate_iou(mask, pred_mask)\n",
    "    print(f'IOU: {iou}')\n",
    "    \n",
    "    axes[i][0].imshow(rgb_image)\n",
    "    axes[i][0].axis('off')\n",
    "    axes[i][0].set_title('RGB')\n",
    "\n",
    "    axes[i][1].imshow(nrg_image)\n",
    "    axes[i][1].axis('off')\n",
    "    axes[i][1].set_title('NRG')\n",
    "\n",
    "    axes[i][2].imshow(mask, cmap='gray')\n",
    "    axes[i][2].axis('off')\n",
    "    axes[i][2].set_title('y_true')\n",
    "\n",
    "    axes[i][3].imshow(pred_mask, cmap='gray')\n",
    "    axes[i][3].axis('off')\n",
    "    axes[i][3].set_title('y_pred')\n",
    "\n",
    "fig.show()"
   ]
  }
 ],
 "metadata": {
  "kernelspec": {
   "display_name": "venv",
   "language": "python",
   "name": "python3"
  },
  "language_info": {
   "codemirror_mode": {
    "name": "ipython",
    "version": 3
   },
   "file_extension": ".py",
   "mimetype": "text/x-python",
   "name": "python",
   "nbconvert_exporter": "python",
   "pygments_lexer": "ipython3",
   "version": "3.11.2"
  }
 },
 "nbformat": 4,
 "nbformat_minor": 5
}
