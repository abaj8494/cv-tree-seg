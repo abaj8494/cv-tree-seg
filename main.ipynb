{
 "cells": [
  {
   "cell_type": "markdown",
   "id": "90aff33f",
   "metadata": {},
   "source": [
    "# PASTE FINISHED SHIT IN HERE"
   ]
  },
  {
   "cell_type": "markdown",
   "id": "d932c17b",
   "metadata": {},
   "source": [
    "# UNet"
   ]
  },
  {
   "cell_type": "markdown",
   "id": "56468afe",
   "metadata": {},
   "source": []
  },
  {
   "cell_type": "code",
   "execution_count": 1,
   "id": "c44afce5",
   "metadata": {},
   "outputs": [],
   "source": [
    "# implementing UNet for dead tree segmentation\n",
    "import torch\n",
    "import torchvision.transforms.functional\n",
    "from torch import nn\n",
    "\n",
    "class DoubleConvolution(nn.Module):\n",
    "    def __init__(self, in_channels: int, out_channels: int):\n",
    "        super().__init__()\n",
    "        \"\"\"first conv layer\"\"\"\n",
    "        self.first = nn.Conv2d(in_channels, out_channels, kernel_size=3, padding=1)\n",
    "        self.act1 = nn.ReLU()\n",
    "        \"\"\"second conv layer\"\"\"\n",
    "        self.second = nn.Conv2d(out_channels, out_channels, kernel_size=3, padding=1)\n",
    "        self.act2=nn.ReLU()\n",
    "\n",
    "    def forward(self, x: torch.Tensor):\n",
    "        \"\"\"apply 2 conv layers and activations\"\"\"\n",
    "        x = self.first(x)\n",
    "        x = self.act1(x)\n",
    "        x = self.second(x)\n",
    "        return self.act2(x)\n",
    "\n",
    "class DownSample(nn.Module):\n",
    "    \"\"\"each step in this contracting path down-samples the feature map with a 2x2 max pooling layer\"\"\"\n",
    "    def __init__(self):\n",
    "        super().__init__()\n",
    "        self.pool = nn.MaxPool2d(2)\n",
    "\n",
    "    def forward(self, x: torch.Tensor):\n",
    "        return self.pool(x)\n",
    "\n",
    "class UpSample(nn.Module):\n",
    "    \"\"\"contrariwise, each step in this expansive path up-samples the feature map with a 2x2 up convolution\"\"\"\n",
    "    def __init__(self, in_channels: int, out_channels: int):\n",
    "        super().__init__()\n",
    "        self.up = nn.ConvTranspose2d(in_channels, out_channels, kernel_size=2, stride=2)\n",
    "\n",
    "    def forward(self, x: torch.Tensor):\n",
    "        return self.up(x)\n",
    "\n",
    "class CropAndConcat(nn.Module):\n",
    "    \"\"\"\n",
    "       at every step in the expansive path, the corresponding feature map (FM)\n",
    "       from the contracting path is concatenated with the current feature map\n",
    "    \"\"\"\n",
    "    def forward(self, x: torch.Tensor, contracting_x: torch.Tensor):\n",
    "        contracting_x = torchvision.transforms.functional.center_crop(contracting_x, [x.shape[2],x.shape[3]]) # corresponding feature map from contracting path\n",
    "        x = torch.cat([x, contracting_x], dim=1) # the current FM in expansive path\n",
    "        return x\n",
    "\n",
    "class UNet(nn.Module):\n",
    "    \"\"\"in_channels = number of channels in the input image\n",
    "    out_channels = number of channels in the result feature map\"\"\"\n",
    "    def __init__(self, in_channels: int, out_channels: int):\n",
    "        super().__init__()\n",
    "        self.down_conv = nn.ModuleList([DoubleConvolution(i, o) for i, o in [(in_channels, 64), (64,128), (128,256), (256,512)]])\n",
    "        self.down_sample = nn.ModuleList([DownSample() for _ in range(4)])\n",
    "        self.middle_conv = DoubleConvolution(512, 1024)\n",
    "        self.up_sample = nn.ModuleList([UpSample(i, o) for i, o in [(1024,512), (512,256),(256,128),(128,64)]])\n",
    "        self.up_conv = nn.ModuleList([DoubleConvolution(i, o) for i, o in [(1024,512),(512,256),(256,128),(128,64)]])\n",
    "        self.concat = nn.ModuleList([CropAndConcat() for _ in range(4)])\n",
    "        self.final_conv = nn.Conv2d(64,out_channels, kernel_size=1)\n",
    "\n",
    "    def forward(self, x:torch.Tensor):\n",
    "        \"\"\"x = input image\"\"\"\n",
    "        pass_through = [] # collects outputs of contracing path for later concatenation with the expansive path\n",
    "        for i in range(len(self.down_conv)): # contracting path\n",
    "            x = self.down_conv[i](x)\n",
    "            pass_through.append(x)\n",
    "            x = self.down_sample[i](x)\n",
    "        x = self.middle_conv(x)\n",
    "        for i in range(len(self.up_conv)): # expansive path\n",
    "            x = self.up_sample[i](x)\n",
    "            x = self.concat[i](x, pass_through.pop())\n",
    "            x = self.up_conv[i](x)\n",
    "        x = self.final_conv(x)\n",
    "        return x\n",
    "\n"
   ]
  },
  {
   "cell_type": "code",
   "execution_count": null,
   "id": "632c5105",
   "metadata": {},
   "outputs": [],
   "source": [
    "# "
   ]
  },
  {
   "cell_type": "markdown",
   "id": "e7dd5c2b",
   "metadata": {},
   "source": [
    "# CNN"
   ]
  },
  {
   "cell_type": "code",
   "execution_count": null,
   "id": "dd44756b",
   "metadata": {},
   "outputs": [],
   "source": [
    "# CNN "
   ]
  }
 ],
 "metadata": {
  "kernelspec": {
   "display_name": "Python 3 (ipykernel)",
   "language": "python",
   "name": "python3"
  },
  "language_info": {
   "codemirror_mode": {
    "name": "ipython",
    "version": 3
   },
   "file_extension": ".py",
   "mimetype": "text/x-python",
   "name": "python",
   "nbconvert_exporter": "python",
   "pygments_lexer": "ipython3",
   "version": "3.12.9"
  }
 },
 "nbformat": 4,
 "nbformat_minor": 5
}
