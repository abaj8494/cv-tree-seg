{
 "cells": [
  {
   "cell_type": "markdown",
   "id": "90aff33f",
   "metadata": {},
   "source": [
    "# PASTE FINISHED SHIT IN HERE"
   ]
  },
  {
   "cell_type": "markdown",
   "id": "d932c17b",
   "metadata": {},
   "source": [
    "# UNet"
   ]
  },
  {
   "cell_type": "markdown",
   "id": "56468afe",
   "metadata": {},
   "source": []
  },
  {
   "cell_type": "code",
   "execution_count": null,
   "id": "c44afce5",
   "metadata": {},
   "outputs": [],
   "source": [
    "# implementing UNet for dead tree segmentation\n"
   ]
  },
  {
   "cell_type": "markdown",
   "id": "e7dd5c2b",
   "metadata": {},
   "source": [
    "# CNN"
   ]
  },
  {
   "cell_type": "code",
   "execution_count": null,
   "id": "dd44756b",
   "metadata": {},
   "outputs": [],
   "source": [
    "# CNN "
   ]
  }
 ],
 "metadata": {
  "kernelspec": {
   "display_name": "Python 3 (ipykernel)",
   "language": "python",
   "name": "python3"
  }
 },
 "nbformat": 4,
 "nbformat_minor": 5
}
