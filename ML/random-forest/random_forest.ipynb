{
 "cells": [
  {
   "cell_type": "code",
   "execution_count": null,
   "id": "39353033",
   "metadata": {},
   "outputs": [],
   "source": [
    "# For google colab use\n",
    "\"\"\"\n",
    "from google.colab import drive\n",
    "drive.mount('/content/drive')\n",
    "!unzip -q -n './drive/MyDrive/Colab Notebooks/Project/dataset.zip' -d '../../'\n",
    "!cp './drive/MyDrive/Colab Notebooks/Project/base_lib.py' '../../'\n",
    "\"\"\""
   ]
  },
  {
   "cell_type": "markdown",
   "id": "e032d39d",
   "metadata": {},
   "source": [
    "### Testing with random forests\n",
    "### Ming Ong"
   ]
  },
  {
   "cell_type": "markdown",
   "id": "9fc36a6a",
   "metadata": {},
   "source": [
    "#### Import necessary libraries"
   ]
  },
  {
   "cell_type": "code",
   "execution_count": null,
   "id": "23321847",
   "metadata": {},
   "outputs": [],
   "source": [
    "import sys\n",
    "sys.path.append('../../')\n",
    "from base_lib import *\n",
    "from sklearn.ensemble import RandomForestClassifier\n",
    "IMAGE_SIZE = (128, 128) # Possibly redefine image re-sizing parameters"
   ]
  },
  {
   "cell_type": "markdown",
   "id": "ff5d1648",
   "metadata": {},
   "source": [
    "#### Test different hyperparameters to tune performance"
   ]
  },
  {
   "cell_type": "code",
   "execution_count": null,
   "id": "38321ce1",
   "metadata": {},
   "outputs": [],
   "source": [
    "RANDOM_STATE = 42\n",
    "train_files, test_files = train_test_split(filenames, random_state=RANDOM_STATE)\n",
    "train_files, validation_files = train_test_split(train_files, random_state=RANDOM_STATE)\n",
    "X_train, y_train = extract_multiple_images(train_files)\n",
    "\n",
    "rf_model = RandomForestClassifier(random_state=RANDOM_STATE, n_estimators=200, max_depth=20, n_jobs=-1)\n",
    "best_rf_model = rf_model\n",
    "best_score = 0\n",
    "\n",
    "for n_estimators in (100, 200, 400):\n",
    "    for max_depth in (None, 10, 20):\n",
    "        print(f'{time.ctime()} Testing with n_estimators: {n_estimators}, max_depth: {max_depth}')\n",
    "        rf_model = RandomForestClassifier(random_state=RANDOM_STATE, n_estimators=n_estimators, max_depth=max_depth, n_jobs=-1)\n",
    "        rf_model.fit(X_train, y_train)\n",
    "        score = 0\n",
    "        for base_filename in validation_files:\n",
    "            X_1_val, y_1_val = extract_basic_image_data(base_filename, IMAGE_SIZE)\n",
    "            y_1_pred = rf_model.predict(X_1_val)\n",
    "            score += iou_score(y_1_val, y_1_pred)\n",
    "        score /= len(validation_files)\n",
    "        if (score > best_score):\n",
    "            print(f'Better performance found with: n_estimators: {n_estimators}, max_depth: {max_depth} score: {score}')\n",
    "            best_rf_model = copy.deepcopy(rf_model)\n",
    "            best_score = score\n",
    "\n",
    "joblib.dump(best_rf_model, 'random_forest_best_42.joblib')\n",
    "print(\"Best Params:\", best_rf_model.get_params())\n",
    "print(\"Best IoU:\", best_score)\n"
   ]
  },
  {
   "cell_type": "markdown",
   "id": "64e94753",
   "metadata": {},
   "source": [
    "#### Test the classifier on a test file and visualise outputs"
   ]
  },
  {
   "cell_type": "code",
   "execution_count": null,
   "id": "a624581e",
   "metadata": {},
   "outputs": [],
   "source": [
    "random.seed(42)\n",
    "NUM_TEST_SAMPLES = 5\n",
    "fig, axes = plt.subplots(nrows=NUM_TEST_SAMPLES, ncols=4, figsize=(16, 20))\n",
    "\n",
    "for base_filename, i in zip(random.sample(test_files, NUM_TEST_SAMPLES), range(NUM_TEST_SAMPLES)):\n",
    "    print(base_filename in train_files)\n",
    "    X_1_test, y_1_test = extract_basic_image_data(base_filename, IMAGE_SIZE)\n",
    "    y_1_pred = best_rf_model.predict(X_1_test)\n",
    "\n",
    "    rgb_filename = rgb_prefix + base_filename\n",
    "    nrg_filename = nrg_prefix + base_filename\n",
    "    mask_filename = mask_prefix + base_filename\n",
    "\n",
    "    mask = cv2.resize(cv2.imread(mask_filename, flags=cv2.IMREAD_GRAYSCALE), IMAGE_SIZE)\n",
    "    mask = mask.reshape(-1)\n",
    "    mask = (mask > 127).astype(np.uint8)\n",
    "    rgb_image = cv2.resize(cv2.imread(rgb_filename), IMAGE_SIZE)\n",
    "    nrg_image = cv2.resize(cv2.imread(nrg_filename), IMAGE_SIZE)\n",
    "\n",
    "    iou = iou_score(y_1_test, y_1_pred)\n",
    "    print(f'IOU: {iou}')\n",
    "\n",
    "    axes[i][0].imshow(rgb_image)\n",
    "    axes[i][0].axis('off')\n",
    "    axes[i][0].set_title('RGB')\n",
    "\n",
    "    axes[i][1].imshow(nrg_image)\n",
    "    axes[i][1].axis('off')\n",
    "    axes[i][1].set_title('NRG')\n",
    "\n",
    "    axes[i][2].imshow(y_1_test.reshape(IMAGE_SIZE), cmap='gray')\n",
    "    axes[i][2].axis('off')\n",
    "    axes[i][2].set_title('y_true')\n",
    "\n",
    "    axes[i][3].imshow(y_1_pred.reshape(IMAGE_SIZE), cmap='gray')\n",
    "    axes[i][3].axis('off')\n",
    "    axes[i][3].set_title('y_pred')\n",
    "\n",
    "fig.show()\n",
    "score = 0\n",
    "for base_filename in test_files:\n",
    "    X_1_test, y_1_test = extract_basic_image_data(base_filename, IMAGE_SIZE)\n",
    "    y_1_pred = best_rf_model.predict(X_1_test)\n",
    "    score += iou_score(y_1_test, y_1_pred)\n",
    "score /= len(test_files)\n",
    "print(f'IOU score: {score}')"
   ]
  },
  {
   "cell_type": "markdown",
   "id": "937fa98a",
   "metadata": {},
   "source": [
    "#### Try add HoG features to see if performance improves"
   ]
  },
  {
   "cell_type": "code",
   "execution_count": null,
   "id": "4043bcbc",
   "metadata": {},
   "outputs": [],
   "source": [
    "RANDOM_STATE = 42\n",
    "train_files, test_files = train_test_split(filenames, random_state=RANDOM_STATE)\n",
    "train_files, validation_files = train_test_split(train_files, random_state=RANDOM_STATE)\n",
    "X_train, y_train = extract_multiple_images(train_files)\n",
    "X_hog = extract_multiple_hog(train_files)\n",
    "X_train = np.concatenate((X_train, X_hog), axis=1)\n",
    "\n",
    "rf_model = RandomForestClassifier(random_state=RANDOM_STATE, n_jobs=-1)\n",
    "best_rf_model = rf_model\n",
    "best_score = 0\n",
    "\n",
    "for n_estimators in (100, 200, 400):\n",
    "    for max_depth in (None, 10, 20):\n",
    "        print(f'{time.ctime()} Testing with n_estimators: {n_estimators}, max_depth: {max_depth}')\n",
    "        rf_model = RandomForestClassifier(random_state=RANDOM_STATE, n_estimators=n_estimators, max_depth=max_depth, n_jobs=-1)\n",
    "        rf_model.fit(X_train, y_train)\n",
    "        score = 0\n",
    "        for base_filename in validation_files:\n",
    "            X_1_val, y_1_val = extract_basic_image_data(base_filename, IMAGE_SIZE)\n",
    "            X_1_hog = extract_hog(base_filename)\n",
    "            X_1_val = np.concatenate((X_1_val, X_1_hog), axis=1)\n",
    "            y_1_pred = rf_model.predict(X_1_val)\n",
    "            score += iou_score(y_1_val, y_1_pred)\n",
    "        score /= len(validation_files)\n",
    "        if (score > best_score):\n",
    "            print(f'Better performance found with: n_estimators: {n_estimators}, max_depth: {max_depth} score: {score}')\n",
    "            best_rf_model = copy.deepcopy(rf_model)\n",
    "            best_score = score\n",
    "\n",
    "joblib.dump(best_rf_model, 'random_forest_best_with_hog_42.joblib')\n",
    "\n",
    "print(\"Best Params:\", best_rf_model.get_params())\n",
    "print(\"Best IoU:\", best_score)"
   ]
  },
  {
   "cell_type": "code",
   "execution_count": null,
   "id": "fef40b1d",
   "metadata": {},
   "outputs": [],
   "source": [
    "random.seed(42)\n",
    "NUM_TEST_SAMPLES = 5\n",
    "fig, axes = plt.subplots(nrows=NUM_TEST_SAMPLES, ncols=4, figsize=(16, 20))\n",
    "\n",
    "for base_filename, i in zip(random.sample(test_files, NUM_TEST_SAMPLES), range(NUM_TEST_SAMPLES)):\n",
    "    print(base_filename in train_files)\n",
    "    X_test, y_test = extract_basic_image_data(base_filename, IMAGE_SIZE)\n",
    "    X_hog = extract_hog(base_filename, IMAGE_SIZE)\n",
    "    X_test = np.concatenate((X_test, X_hog), axis=1)\n",
    "    y_pred = best_rf_model.predict(X_test)\n",
    "\n",
    "    rgb_filename = rgb_prefix + base_filename\n",
    "    nrg_filename = nrg_prefix + base_filename\n",
    "    mask_filename = mask_prefix + base_filename\n",
    "\n",
    "    mask = cv2.resize(cv2.imread(mask_filename, flags=cv2.IMREAD_GRAYSCALE), IMAGE_SIZE)\n",
    "    mask = mask.reshape(-1)\n",
    "    mask = (mask > 127).astype(np.uint8)\n",
    "    rgb_image = cv2.resize(cv2.imread(rgb_filename), IMAGE_SIZE)\n",
    "    nrg_image = cv2.resize(cv2.imread(nrg_filename), IMAGE_SIZE)\n",
    "\n",
    "    iou = iou_score(y_test, y_pred)\n",
    "    print(f'IOU: {iou}')\n",
    "\n",
    "    axes[i][0].imshow(rgb_image)\n",
    "    axes[i][0].axis('off')\n",
    "    axes[i][0].set_title('RGB')\n",
    "\n",
    "    axes[i][1].imshow(nrg_image)\n",
    "    axes[i][1].axis('off')\n",
    "    axes[i][1].set_title('NRG')\n",
    "\n",
    "    axes[i][2].imshow(y_test.reshape(IMAGE_SIZE), cmap='gray')\n",
    "    axes[i][2].axis('off')\n",
    "    axes[i][2].set_title('y_true')\n",
    "\n",
    "    axes[i][3].imshow(y_pred.reshape(IMAGE_SIZE), cmap='gray')\n",
    "    axes[i][3].axis('off')\n",
    "    axes[i][3].set_title('y_pred')\n",
    "\n",
    "fig.show()\n",
    "score = 0\n",
    "for base_filename in test_files:\n",
    "    X_test, y_test = extract_basic_image_data(base_filename, IMAGE_SIZE)\n",
    "    y_pred = rf_model.predict(X_test)\n",
    "    score += iou_score(y_test, y_pred)\n",
    "score /= len(test_files)\n",
    "print(f'IOU score: {score}')"
   ]
  }
 ],
 "metadata": {
  "kernelspec": {
   "display_name": "venv",
   "language": "python",
   "name": "python3"
  },
  "language_info": {
   "codemirror_mode": {
    "name": "ipython",
    "version": 3
   },
   "file_extension": ".py",
   "mimetype": "text/x-python",
   "name": "python",
   "nbconvert_exporter": "python",
   "pygments_lexer": "ipython3",
   "version": "3.11.2"
  }
 },
 "nbformat": 4,
 "nbformat_minor": 5
}
